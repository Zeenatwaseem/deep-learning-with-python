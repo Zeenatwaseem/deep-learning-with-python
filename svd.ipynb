{
 "cells": [
  {
   "cell_type": "code",
   "execution_count": 29,
   "id": "428a8bdc",
   "metadata": {},
   "outputs": [],
   "source": [
    "import numpy as np\n",
    "from numpy.linalg import svd\n",
    "from numpy.linalg import eigh\n",
    "from numpy.linalg import norm"
   ]
  },
  {
   "cell_type": "code",
   "execution_count": 30,
   "id": "be4059d1",
   "metadata": {},
   "outputs": [],
   "source": [
    "A=np.array([[3,2,2],[2,3,-2]])"
   ]
  },
  {
   "cell_type": "code",
   "execution_count": 31,
   "id": "e8c10d91",
   "metadata": {},
   "outputs": [],
   "source": [
    "u,sigma,v=svd(A)"
   ]
  },
  {
   "cell_type": "code",
   "execution_count": 32,
   "id": "f175cf68",
   "metadata": {},
   "outputs": [
    {
     "name": "stdout",
     "output_type": "stream",
     "text": [
      "u [[-0.70710678 -0.70710678]\n",
      " [-0.70710678  0.70710678]]\n",
      "\n",
      "v [[-7.07106781e-01 -7.07106781e-01 -6.47932334e-17]\n",
      " [-2.35702260e-01  2.35702260e-01 -9.42809042e-01]\n",
      " [-6.66666667e-01  6.66666667e-01  3.33333333e-01]]\n",
      "\n",
      "sigma [[5. 0.]\n",
      " [0. 3.]]\n"
     ]
    }
   ],
   "source": [
    "print(\"u\",u)\n",
    "print()\n",
    "print(\"v\",v)\n",
    "print()\n",
    "print(\"sigma\",np.diag(sigma))"
   ]
  },
  {
   "cell_type": "code",
   "execution_count": 33,
   "id": "f25c907c",
   "metadata": {},
   "outputs": [
    {
     "data": {
      "text/plain": [
       "array([[-3.53553391, -2.12132034],\n",
       "       [-3.53553391,  2.12132034]])"
      ]
     },
     "execution_count": 33,
     "metadata": {},
     "output_type": "execute_result"
    }
   ],
   "source": [
    "res=u@np.diag(sigma)\n",
    "res"
   ]
  },
  {
   "cell_type": "code",
   "execution_count": 34,
   "id": "94aae13a",
   "metadata": {},
   "outputs": [],
   "source": [
    "col=np.array([[0],[0]])\n",
    "res=np.append(res,col,axis=1)"
   ]
  },
  {
   "cell_type": "code",
   "execution_count": 35,
   "id": "5c12649a",
   "metadata": {},
   "outputs": [
    {
     "name": "stdout",
     "output_type": "stream",
     "text": [
      "[[-3.53553391 -2.12132034  0.        ]\n",
      " [-3.53553391  2.12132034  0.        ]]\n"
     ]
    }
   ],
   "source": [
    "print(res)"
   ]
  },
  {
   "cell_type": "code",
   "execution_count": 36,
   "id": "f808c078",
   "metadata": {},
   "outputs": [
    {
     "data": {
      "text/plain": [
       "array([[ 3.,  2.,  2.],\n",
       "       [ 2.,  3., -2.]])"
      ]
     },
     "execution_count": 36,
     "metadata": {},
     "output_type": "execute_result"
    }
   ],
   "source": [
    "result=res@v\n",
    "result"
   ]
  },
  {
   "cell_type": "code",
   "execution_count": 37,
   "id": "26b2270e",
   "metadata": {},
   "outputs": [],
   "source": [
    "#approximation using max\n",
    "sigma_approx=np.zeros((2,2))\n",
    "\n"
   ]
  },
  {
   "cell_type": "code",
   "execution_count": 38,
   "id": "7c39e1c8",
   "metadata": {},
   "outputs": [
    {
     "data": {
      "text/plain": [
       "array([[17,  8],\n",
       "       [ 8, 17]])"
      ]
     },
     "execution_count": 38,
     "metadata": {},
     "output_type": "execute_result"
    }
   ],
   "source": [
    "A@A.T"
   ]
  },
  {
   "cell_type": "code",
   "execution_count": 39,
   "id": "5175f897",
   "metadata": {},
   "outputs": [],
   "source": [
    "ev,V=eigh(A@A.T)"
   ]
  },
  {
   "cell_type": "code",
   "execution_count": 40,
   "id": "b4e5ff8e",
   "metadata": {},
   "outputs": [],
   "source": [
    "#Q1: EIGEN DECOMPOSTITION"
   ]
  },
  {
   "cell_type": "code",
   "execution_count": 41,
   "id": "78b74331",
   "metadata": {},
   "outputs": [],
   "source": [
    "   # A=q lembda Qt"
   ]
  },
  {
   "cell_type": "code",
   "execution_count": 42,
   "id": "2135f816",
   "metadata": {},
   "outputs": [],
   "source": [
    "A=[[2,5],[3,4]]\n",
    "eigenvalue,eigenvector=np.linalg.eig(A)"
   ]
  },
  {
   "cell_type": "code",
   "execution_count": 43,
   "id": "f9ac7f0e",
   "metadata": {},
   "outputs": [
    {
     "name": "stdout",
     "output_type": "stream",
     "text": [
      "eigenvalues [-1.  7.]\n",
      "\n",
      "eigenvector [[-0.85749293 -0.70710678]\n",
      " [ 0.51449576 -0.70710678]]\n"
     ]
    }
   ],
   "source": [
    "print(\"eigenvalues\",eigenvalue)\n",
    "print()\n",
    "print(\"eigenvector\",eigenvector)"
   ]
  },
  {
   "cell_type": "code",
   "execution_count": 44,
   "id": "58cb3fed",
   "metadata": {},
   "outputs": [
    {
     "data": {
      "text/plain": [
       "array([[-1.,  0.],\n",
       "       [ 0.,  7.]])"
      ]
     },
     "execution_count": 44,
     "metadata": {},
     "output_type": "execute_result"
    }
   ],
   "source": [
    "lembda=np.diag(eigenvalue)\n",
    "lembda"
   ]
  },
  {
   "cell_type": "code",
   "execution_count": 45,
   "id": "a54c1b06",
   "metadata": {},
   "outputs": [],
   "source": [
    "inv=np.linalg.inv(eigenvector)"
   ]
  },
  {
   "cell_type": "code",
   "execution_count": 46,
   "id": "cfff68bc",
   "metadata": {},
   "outputs": [
    {
     "data": {
      "text/plain": [
       "array([[2., 5.],\n",
       "       [3., 4.]])"
      ]
     },
     "execution_count": 46,
     "metadata": {},
     "output_type": "execute_result"
    }
   ],
   "source": [
    "A=eigenvector@lembda@inv\n",
    "A\n"
   ]
  },
  {
   "cell_type": "code",
   "execution_count": 47,
   "id": "64bb7e45",
   "metadata": {},
   "outputs": [
    {
     "data": {
      "text/plain": [
       "array([[-0.72886899,  0.72886899],\n",
       "       [-0.53033009, -0.88388348]])"
      ]
     },
     "execution_count": 47,
     "metadata": {},
     "output_type": "execute_result"
    }
   ],
   "source": [
    "inv"
   ]
  },
  {
   "cell_type": "code",
   "execution_count": 48,
   "id": "69ec3c18",
   "metadata": {},
   "outputs": [
    {
     "data": {
      "text/plain": [
       "array([[-0.85749293, -0.70710678],\n",
       "       [ 0.51449576, -0.70710678]])"
      ]
     },
     "execution_count": 48,
     "metadata": {},
     "output_type": "execute_result"
    }
   ],
   "source": [
    "eigenvector"
   ]
  },
  {
   "cell_type": "code",
   "execution_count": 49,
   "id": "e0021bd7",
   "metadata": {},
   "outputs": [
    {
     "data": {
      "text/plain": [
       "array([[-1.,  0.],\n",
       "       [ 0.,  7.]])"
      ]
     },
     "execution_count": 49,
     "metadata": {},
     "output_type": "execute_result"
    }
   ],
   "source": [
    "lembda"
   ]
  },
  {
   "cell_type": "code",
   "execution_count": 50,
   "id": "afbfb62d",
   "metadata": {},
   "outputs": [
    {
     "name": "stdout",
     "output_type": "stream",
     "text": [
      "[[-0.625  0.625]\n",
      " [ 0.375 -0.375]]\n"
     ]
    }
   ],
   "source": [
    "x=lembda[0][0]*eigenvector[:,0:1]*inv[0]\n",
    "print(x)"
   ]
  },
  {
   "cell_type": "code",
   "execution_count": 51,
   "id": "a7dc3d18",
   "metadata": {},
   "outputs": [],
   "source": [
    "def func(lembda,eigenvector,inv,i):\n",
    "   return (lembda[i][i]*eigenvector[:,i:i+1])*inv[i]"
   ]
  },
  {
   "cell_type": "code",
   "execution_count": 52,
   "id": "7d8a8277",
   "metadata": {},
   "outputs": [
    {
     "name": "stdout",
     "output_type": "stream",
     "text": [
      "[[-0.625  0.625]\n",
      " [ 0.375 -0.375]]\n",
      "[[2.625 4.375]\n",
      " [2.625 4.375]]\n",
      "[[2. 5.]\n",
      " [3. 4.]]\n"
     ]
    }
   ],
   "source": [
    "sum=0\n",
    "for i in  range(len(eigenvalue)):\n",
    "    print(func(lembda,eigenvector,inv,i))\n",
    "    sum=sum+func(lembda,eigenvector,inv,i)\n",
    "print(sum)"
   ]
  }
 ],
 "metadata": {
  "kernelspec": {
   "display_name": "Python 3.10.1 64-bit",
   "language": "python",
   "name": "python3"
  },
  "language_info": {
   "codemirror_mode": {
    "name": "ipython",
    "version": 3
   },
   "file_extension": ".py",
   "mimetype": "text/x-python",
   "name": "python",
   "nbconvert_exporter": "python",
   "pygments_lexer": "ipython3",
   "version": "3.10.1"
  },
  "vscode": {
   "interpreter": {
    "hash": "59553ecd444ac45b306ef4cf917906ee1e090f0cd110d592cae35eebc5ede51d"
   }
  }
 },
 "nbformat": 4,
 "nbformat_minor": 5
}
