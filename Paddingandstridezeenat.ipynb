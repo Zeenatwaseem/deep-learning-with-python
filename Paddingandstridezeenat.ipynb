{
  "nbformat": 4,
  "nbformat_minor": 0,
  "metadata": {
    "colab": {
      "provenance": [],
      "collapsed_sections": [],
      "include_colab_link": true
    },
    "kernelspec": {
      "name": "python3",
      "display_name": "Python 3"
    },
    "language_info": {
      "name": "python"
    }
  },
  "cells": [
    {
      "cell_type": "markdown",
      "metadata": {
        "id": "view-in-github",
        "colab_type": "text"
      },
      "source": [
        "<a href=\"https://colab.research.google.com/github/Zeenatwaseem/deep-learning-with-python/blob/main/Paddingandstridezeenat.ipynb\" target=\"_parent\"><img src=\"https://colab.research.google.com/assets/colab-badge.svg\" alt=\"Open In Colab\"/></a>"
      ]
    },
    {
      "cell_type": "code",
      "source": [
        "import numpy as np\n",
        "import numpy\n",
        "\n",
        "arr = numpy.array([[3, 3, 2, 1, 0], [0, 0, 1, 3, 1], [3, 1, 2, 2, 3],\n",
        "                   [2, 0, 0, 2, 2], [2, 0, 0, 0, 1]])\n",
        "print(\"The original matrix:\")\n",
        "print(arr)\n",
        "p = [[0, 1, 2], [2, 2, 0], [0, 1, 2]]\n",
        "K = 3\n",
        "l = 3\n",
        "for j in range(len(p)):\n",
        "\n",
        "    K = 3\n",
        "    for i in range(len(p)):\n",
        "\n",
        "        print(\"A sliced submatrix:\")\n",
        "        print(np.sum((arr[j:l, i:K]) * p))\n",
        "\n",
        "        K += 1\n",
        "    #print(i, K)\n",
        "    l += 1"
      ],
      "metadata": {
        "colab": {
          "base_uri": "https://localhost:8080/"
        },
        "id": "eMEh_LY1ZwIq",
        "outputId": "1c3b30ce-721b-46c8-a59e-a250913a0e8e"
      },
      "execution_count": null,
      "outputs": [
        {
          "output_type": "stream",
          "name": "stdout",
          "text": [
            "The original matrix:\n",
            "[[3 3 2 1 0]\n",
            " [0 0 1 3 1]\n",
            " [3 1 2 2 3]\n",
            " [2 0 0 2 2]\n",
            " [2 0 0 0 1]]\n",
            "A sliced submatrix:\n",
            "12\n",
            "A sliced submatrix:\n",
            "12\n",
            "A sliced submatrix:\n",
            "17\n",
            "A sliced submatrix:\n",
            "10\n",
            "A sliced submatrix:\n",
            "17\n",
            "A sliced submatrix:\n",
            "19\n",
            "A sliced submatrix:\n",
            "9\n",
            "A sliced submatrix:\n",
            "6\n",
            "A sliced submatrix:\n",
            "14\n"
          ]
        }
      ]
    },
    {
      "cell_type": "code",
      "source": [
        "import numpy as np\n",
        "import numpy\n",
        "\n",
        "arr = numpy.array([[3, 3, 2, 1, 0], [0, 0, 1, 3, 1], [3, 1, 2, 2, 3],\n",
        "                   [2, 0, 0, 2, 2], [2, 0, 0, 0, 1]])\n",
        "print(\"The original matrix:\")\n",
        "print(arr)\n",
        "p = [[0, 1, 2], [2, 2, 0], [0, 1, 2]]\n",
        "K = len(p)\n",
        "l = len(p)\n",
        "list1=[]\n",
        "for j in range(len(p)):\n",
        "\n",
        "    K = 3\n",
        "    list=[]\n",
        "    for i in range(len(p)):\n",
        "\n",
        "       # print(\"A sliced submatrix:\")\n",
        "        list.append(np.sum((arr[j:l, i:K]) * p))\n",
        "\n",
        "        K += 1\n",
        "    #print(i, K)\n",
        "    l += 1\n",
        "\n",
        "    list1.append(list)\n",
        "\n",
        "list1=[x for x in list1 if x]\n",
        "l=np.array (list1)\n",
        "print()\n",
        "print(\"after scaling\")\n",
        "print(l)"
      ],
      "metadata": {
        "colab": {
          "base_uri": "https://localhost:8080/"
        },
        "id": "qfFEZe7_cxBJ",
        "outputId": "9705ef9b-9bca-4688-81bb-73590e5938aa"
      },
      "execution_count": 1,
      "outputs": [
        {
          "output_type": "stream",
          "name": "stdout",
          "text": [
            "The original matrix:\n",
            "[[3 3 2 1 0]\n",
            " [0 0 1 3 1]\n",
            " [3 1 2 2 3]\n",
            " [2 0 0 2 2]\n",
            " [2 0 0 0 1]]\n",
            "\n",
            "after scaling\n",
            "[[12 12 17]\n",
            " [10 17 19]\n",
            " [ 9  6 14]]\n"
          ]
        }
      ]
    },
    {
      "cell_type": "code",
      "source": [],
      "metadata": {
        "id": "YQiyeeaicyPX"
      },
      "execution_count": null,
      "outputs": []
    },
    {
      "cell_type": "code",
      "source": [
        "import numpy as np\n",
        "import numpy\n",
        "\n",
        "arr =np.array([[3, 3, 2, 1, 0], [0, 0, 1, 3, 1], [3, 1, 2, 2, 3],\n",
        "\n",
        "\n",
        "\n",
        "\n",
        "        [2, 0, 0, 2, 2], [2, 0, 0, 0,1]])\n",
        "arr=np.pad(arr, [(1,1), (1,1)], mode='constant')\n",
        "\n",
        "\n",
        "\n",
        "print(\"The original matrix after padding:\")\n",
        "print(arr)\n",
        "p = [[0, 1, 2], [2, 2, 0], [0, 1, 2]]\n",
        "K = len(p)\n",
        "l = len(p)\n",
        "list1=[]\n",
        "for j in range(len(arr)):\n",
        "    list=[]\n",
        "    K = len(p)\n",
        "    for i in range(len(arr[0])):\n",
        "\n",
        "        \n",
        "\n",
        "        if (np.shape(arr[j:l, i:K]))==np.shape(p):\n",
        "            #print(np.sum((arr[j:l, i:K])*p))\n",
        "            list.append(np.sum((arr[j:l, i:K])*p))\n",
        "\n",
        "        K += 1\n",
        "    #print(i, K)\n",
        "    list1.append(list)\n",
        "    l += 1\n",
        "list1=[x for x in list1 if x]\n",
        "l=np.array (list1)\n",
        "print()\n",
        "print(\"after scaling\")\n",
        "print(l)"
      ],
      "metadata": {
        "colab": {
          "base_uri": "https://localhost:8080/"
        },
        "id": "cS-A8y_Msb07",
        "outputId": "98c2775b-4766-493c-d0a9-dd96cd920017"
      },
      "execution_count": null,
      "outputs": [
        {
          "output_type": "stream",
          "name": "stdout",
          "text": [
            "The original matrix after padding:\n",
            "[[0 0 0 0 0 0 0]\n",
            " [0 3 3 2 1 0 0]\n",
            " [0 0 0 1 3 1 0]\n",
            " [0 3 1 2 2 3 0]\n",
            " [0 2 0 0 2 2 0]\n",
            " [0 2 0 0 0 1 0]\n",
            " [0 0 0 0 0 0 0]]\n",
            "\n",
            "after scaling\n",
            "[[ 6 14 17 11  3]\n",
            " [14 12 12 17 11]\n",
            " [ 8 10 17 19 13]\n",
            " [11  9  6 14 12]\n",
            " [ 6  4  4  6  4]]\n"
          ]
        }
      ]
    },
    {
      "cell_type": "code",
      "source": [
        "\n",
        "import numpy as np\n",
        "import numpy\n",
        "\n",
        "arr =np.array([[3, 3, 2, 1, 0], [0, 0, 1, 3, 1], [3, 1, 2, 2, 3],\n",
        "\n",
        "\n",
        "\n",
        "\n",
        "        [2, 0, 0, 2, 2], [2, 0, 0, 0,1]])\n",
        "arr=np.pad(arr, [(1,1), (1,1)], mode='constant')\n",
        "\n",
        "\n",
        "\n",
        "print(\"The original matrix after padding:\")\n",
        "print(arr)\n",
        "p = [[0, 1, 2], [2, 2, 0], [0, 1, 2]]\n",
        "K = len(p)\n",
        "l = len(p)\n",
        "n=int(input(\"enter stride\"))\n",
        "list1=[]\n",
        "for j in range(0,len(arr)-1,n):\n",
        "    list=[]\n",
        "    K = len(p)\n",
        "    for i in range(0,len(arr[0])-1,n):\n",
        "\n",
        "        \n",
        "\n",
        "        if (np.shape(arr[j:l, i:K]))==np.shape(p):\n",
        "            #print(arr[j:l, i:K])\n",
        "            list.append(np.sum((arr[j:l, i:K])*p))\n",
        "\n",
        "        K += n\n",
        "    #print(i, K)\n",
        "    list1.append(list)\n",
        "    l += n\n",
        "list1=[x for x in list1 if x]\n",
        "l=np.array (list1)\n",
        "print()\n",
        "print(\"after scaling wth stride of of n for ex as 2\")\n",
        "print(l)"
      ],
      "metadata": {
        "colab": {
          "base_uri": "https://localhost:8080/"
        },
        "id": "v9Gawc--IF0-",
        "outputId": "f2b58395-d654-4a4d-a3b7-e09b436ce8dc"
      },
      "execution_count": 3,
      "outputs": [
        {
          "output_type": "stream",
          "name": "stdout",
          "text": [
            "The original matrix after padding:\n",
            "[[0 0 0 0 0 0 0]\n",
            " [0 3 3 2 1 0 0]\n",
            " [0 0 0 1 3 1 0]\n",
            " [0 3 1 2 2 3 0]\n",
            " [0 2 0 0 2 2 0]\n",
            " [0 2 0 0 0 1 0]\n",
            " [0 0 0 0 0 0 0]]\n",
            "enter stride1\n",
            "\n",
            "after scaling wth stride of of n for ex as 2\n",
            "[[ 6 14 17 11  3]\n",
            " [14 12 12 17 11]\n",
            " [ 8 10 17 19 13]\n",
            " [11  9  6 14 12]\n",
            " [ 6  4  4  6  4]]\n"
          ]
        }
      ]
    }
  ]
}