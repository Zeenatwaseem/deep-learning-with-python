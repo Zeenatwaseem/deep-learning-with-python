{
 "cells": [
  {
   "cell_type": "code",
   "execution_count": 1,
   "id": "94fd3d73",
   "metadata": {},
   "outputs": [],
   "source": [
    "import numpy as np\n",
    "data = [[5.1, 3.5, 1.4, 0.2],\n",
    "        [4.9, 3.0, 1.4, 0.2],\n",
    "        [4.7, 3.2, 1.3, 0.2],\n",
    "        [4.6, 3.1, 1.5, 0.2],\n",
    "        \n",
    "        ]\n",
    "\n",
    "from numpy.linalg import eig"
   ]
  },
  {
   "cell_type": "code",
   "execution_count": 2,
   "id": "867af05d",
   "metadata": {},
   "outputs": [
    {
     "name": "stdout",
     "output_type": "stream",
     "text": [
      "[[ 0.72004239  0.6908134  -0.06569485  0.        ]\n",
      " [ 0.69268617 -0.72118945  0.00846438  0.        ]\n",
      " [-0.04153113 -0.05160062 -0.99780386 -0.        ]\n",
      " [ 0.          0.          0.          1.        ]]\n"
     ]
    }
   ],
   "source": [
    "from re import fullmatch\n",
    "from sklearn.decomposition import PCA\n",
    "pca = PCA(n_components = 4)\n",
    "fit = pca.fit(data)\n",
    "print(fit.components_)"
   ]
  },
  {
   "cell_type": "code",
   "execution_count": 3,
   "id": "4c890185",
   "metadata": {},
   "outputs": [
    {
     "name": "stdout",
     "output_type": "stream",
     "text": [
      "[[5.1 3.5 1.4 0.2]\n",
      " [4.9 3.  1.4 0.2]\n",
      " [4.7 3.2 1.3 0.2]\n",
      " [4.6 3.1 1.5 0.2]]\n"
     ]
    }
   ],
   "source": [
    "odata = np.copy(np.array(data))\n",
    "print(np.array(data))"
   ]
  },
  {
   "cell_type": "code",
   "execution_count": 4,
   "id": "d3830403",
   "metadata": {},
   "outputs": [
    {
     "name": "stdout",
     "output_type": "stream",
     "text": [
      "[[ 2.7500000e-01  3.0000000e-01  0.0000000e+00  0.0000000e+00]\n",
      " [ 7.5000000e-02 -2.0000000e-01  0.0000000e+00  0.0000000e+00]\n",
      " [-1.2500000e-01  4.4408921e-16 -1.0000000e-01  0.0000000e+00]\n",
      " [-2.2500000e-01 -1.0000000e-01  1.0000000e-01  0.0000000e+00]]\n"
     ]
    }
   ],
   "source": [
    "for j in range(len(data[0])):\n",
    "    sum = 0\n",
    "    for i in range(len(data)):\n",
    "        sum += data[i][j]\n",
    "    for i in range(len(data)):\n",
    "        data[i][j] -= sum/len(data)\n",
    "print(np.array(data))\n"
   ]
  },
  {
   "cell_type": "code",
   "execution_count": 5,
   "id": "afdd18d0",
   "metadata": {},
   "outputs": [
    {
     "name": "stdout",
     "output_type": "stream",
     "text": [
      "[[ 0.04916667  0.03       -0.00333333  0.        ]\n",
      " [ 0.03        0.04666667 -0.00333333  0.        ]\n",
      " [-0.00333333 -0.00333333  0.00666667  0.        ]\n",
      " [ 0.          0.          0.          0.        ]]\n"
     ]
    }
   ],
   "source": [
    "data = np.array(data)\n",
    "covdata = np.cov(data.T)\n",
    "print(covdata)"
   ]
  },
  {
   "cell_type": "code",
   "execution_count": 6,
   "id": "72bd90c1",
   "metadata": {},
   "outputs": [
    {
     "name": "stdout",
     "output_type": "stream",
     "text": [
      "[0.07825299 0.01789147 0.00635554 0.        ]\n",
      "\n",
      "[[ 0.72004239  0.69268617  0.04153113  0.        ]\n",
      " [ 0.6908134  -0.72118945  0.05160062  0.        ]\n",
      " [-0.06569485  0.00846438  0.99780386  0.        ]\n",
      " [ 0.          0.          0.          1.        ]]\n"
     ]
    }
   ],
   "source": [
    "values, vectors = np.linalg.eig(covdata)\n",
    "print(values)\n",
    "print()\n",
    "print(vectors)"
   ]
  },
  {
   "cell_type": "code",
   "execution_count": 7,
   "id": "7e7f3d2e",
   "metadata": {},
   "outputs": [
    {
     "name": "stdout",
     "output_type": "stream",
     "text": [
      "[0.7634437922688404, 0.17455089817308628, 0.06200530955807335, 0.0]\n"
     ]
    }
   ],
   "source": [
    "var = []\n",
    "for i in range(len(values)):\n",
    "    var.append(values[i] / np.sum(values))\n",
    "print(var)"
   ]
  },
  {
   "cell_type": "code",
   "execution_count": 8,
   "id": "8c619b8a",
   "metadata": {},
   "outputs": [
    {
     "name": "stdout",
     "output_type": "stream",
     "text": [
      "New data:\n",
      "[[5.1 3.5]\n",
      " [4.9 3. ]\n",
      " [4.7 3.2]\n",
      " [4.6 3.1]]\n"
     ]
    }
   ],
   "source": [
    "\n",
    "k = 2\n",
    "s = np.argsort(np.array(var)) \n",
    "s = s[::-1]\n",
    "s = s[0:k]\n",
    "s = sorted(s)\n",
    "ndata = []\n",
    "odata = np.array(odata).T\n",
    "for i in s:\n",
    "    ndata.append(odata[i])\n",
    "print(\"New data:\")\n",
    "print(np.array(ndata).T)"
   ]
  },
  {
   "cell_type": "code",
   "execution_count": null,
   "id": "d6bda2cc",
   "metadata": {},
   "outputs": [],
   "source": []
  },
  {
   "cell_type": "code",
   "execution_count": null,
   "id": "9c8c5b91",
   "metadata": {},
   "outputs": [],
   "source": []
  }
 ],
 "metadata": {
  "kernelspec": {
   "display_name": "Python 3.10.1 64-bit",
   "language": "python",
   "name": "python3"
  },
  "language_info": {
   "codemirror_mode": {
    "name": "ipython",
    "version": 3
   },
   "file_extension": ".py",
   "mimetype": "text/x-python",
   "name": "python",
   "nbconvert_exporter": "python",
   "pygments_lexer": "ipython3",
   "version": "3.10.1"
  },
  "vscode": {
   "interpreter": {
    "hash": "59553ecd444ac45b306ef4cf917906ee1e090f0cd110d592cae35eebc5ede51d"
   }
  }
 },
 "nbformat": 4,
 "nbformat_minor": 5
}
